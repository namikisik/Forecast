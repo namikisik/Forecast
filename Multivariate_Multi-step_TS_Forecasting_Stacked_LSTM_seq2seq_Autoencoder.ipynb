{
 "cells": [
  {
   "cell_type": "markdown",
   "metadata": {},
   "source": [
    "https://www.analyticsvidhya.com/blog/2020/10/multivariate-multi-step-time-series-forecasting-using-stacked-lstm-sequence-to-sequence-autoencoder-in-tensorflow-2-0-keras/\n",
    "## Introduction\n",
    "In Sequence to Sequence Learning, an RNN model is trained to map an input sequence to an output sequence. The input and output need not necessarily be of the same length. The seq2seq model contains two RNNs, e.g., LSTMs. They can be treated as an encoder and decoder. The encoder part converts the given input sequence to a fixed-length vector, which acts as a summary of the input sequence.\n",
    "\n",
    "This fixed-length vector is called the context vector. The context vector is given as input to the decoder and the final encoder state as an initial decoder state to predict the output sequence. Sequence to Sequence learning is used in language translation, speech recognition, time series\n",
    "forecasting, etc.\n",
    "\n",
    "We will use the sequence to sequence learning for time series forecasting. We can use this architecture to easily make a multistep forecast. we will add two layers, a repeat vector layer and time distributed dense layer in the architecture.\n",
    "\n",
    "A repeat vector layer is used to repeat the context vector we get from the encoder to pass it as an input to the decoder. We will repeat it for n-steps ( n is the no of future steps you want to forecast). The output received from the decoder with respect to each time step is mixed. The time distributed densely will apply a fully connected dense layer on each time step and separates the output for each timestep. The time distributed densely is a wrapper that allows applying a layer to every temporal slice of an input.\n",
    "\n",
    "We will stack additional layers on the encoder part and the decoder part of the sequence to sequence model. By stacking LSTM’s, it may increase the ability of our model to understand more complex representation of our time-series data in hidden layers, by capturing information at different levels.\n",
    "\n"
   ]
  },
  {
   "cell_type": "code",
   "execution_count": 1,
   "metadata": {},
   "outputs": [
    {
     "data": {
      "application/javascript": [
       "\n",
       "            setTimeout(function() {\n",
       "                var nbb_cell_id = 1;\n",
       "                var nbb_unformatted_code = \"import pandas as pd\\nimport numpy as np\\nfrom sklearn.preprocessing import MinMaxScaler, StandardScaler\\nimport matplotlib.pyplot as plt\\nimport tensorflow as tf\\nimport os\\nimport pandas_datareader.data as web\\nimport datetime\\n\\n%load_ext nb_black\";\n",
       "                var nbb_formatted_code = \"import pandas as pd\\nimport numpy as np\\nfrom sklearn.preprocessing import MinMaxScaler, StandardScaler\\nimport matplotlib.pyplot as plt\\nimport tensorflow as tf\\nimport os\\nimport pandas_datareader.data as web\\nimport datetime\\n\\n%load_ext nb_black\";\n",
       "                var nbb_cells = Jupyter.notebook.get_cells();\n",
       "                for (var i = 0; i < nbb_cells.length; ++i) {\n",
       "                    if (nbb_cells[i].input_prompt_number == nbb_cell_id) {\n",
       "                        if (nbb_cells[i].get_text() == nbb_unformatted_code) {\n",
       "                             nbb_cells[i].set_text(nbb_formatted_code);\n",
       "                        }\n",
       "                        break;\n",
       "                    }\n",
       "                }\n",
       "            }, 500);\n",
       "            "
      ],
      "text/plain": [
       "<IPython.core.display.Javascript object>"
      ]
     },
     "metadata": {},
     "output_type": "display_data"
    }
   ],
   "source": [
    "import pandas as pd\n",
    "import numpy as np\n",
    "from sklearn.preprocessing import MinMaxScaler, StandardScaler\n",
    "import matplotlib.pyplot as plt\n",
    "import tensorflow as tf\n",
    "import os\n",
    "import pandas_datareader.data as web\n",
    "import datetime\n",
    "\n",
    "%load_ext nb_black"
   ]
  },
  {
   "cell_type": "markdown",
   "metadata": {},
   "source": [
    "### Load the data\n"
   ]
  },
  {
   "cell_type": "code",
   "execution_count": 2,
   "metadata": {},
   "outputs": [
    {
     "data": {
      "application/javascript": [
       "\n",
       "            setTimeout(function() {\n",
       "                var nbb_cell_id = 2;\n",
       "                var nbb_unformatted_code = \"start_date = \\\"2000-01-01\\\"\\nend_date = str(datetime.date.today() - datetime.timedelta(days=1))\\nsymbols = {\\n    \\\"Gold\\\": \\\"GC=F\\\",\\n    \\\"USD_TL\\\": \\\"TRY=X\\\",\\n    \\\"Bitcoin\\\": \\\"BTC-USD\\\",\\n    \\\"Ethereum\\\": \\\"ETH-USD\\\",\\n}\\nsymbol = symbols[list(symbols)[0]]\\ndates = pd.date_range(start_date, end_date)\\ndf = web.DataReader(symbol, \\\"yahoo\\\", start=start_date, end=end_date)\\ndf = df[[\\\"High\\\", \\\"Low\\\", \\\"Open\\\", \\\"Adj Close\\\"]]\\ndf = df.rename(columns={\\\"Adj Close\\\": \\\"Close\\\"})\\ndf[\\\"Returns\\\"] = df[\\\"Close\\\"].pct_change()\\ndf[\\\"log_Returns\\\"] = np.log(1 + df[\\\"Returns\\\"])\\ndf.dropna(inplace=True)\";\n",
       "                var nbb_formatted_code = \"start_date = \\\"2000-01-01\\\"\\nend_date = str(datetime.date.today() - datetime.timedelta(days=1))\\nsymbols = {\\n    \\\"Gold\\\": \\\"GC=F\\\",\\n    \\\"USD_TL\\\": \\\"TRY=X\\\",\\n    \\\"Bitcoin\\\": \\\"BTC-USD\\\",\\n    \\\"Ethereum\\\": \\\"ETH-USD\\\",\\n}\\nsymbol = symbols[list(symbols)[0]]\\ndates = pd.date_range(start_date, end_date)\\ndf = web.DataReader(symbol, \\\"yahoo\\\", start=start_date, end=end_date)\\ndf = df[[\\\"High\\\", \\\"Low\\\", \\\"Open\\\", \\\"Adj Close\\\"]]\\ndf = df.rename(columns={\\\"Adj Close\\\": \\\"Close\\\"})\\ndf[\\\"Returns\\\"] = df[\\\"Close\\\"].pct_change()\\ndf[\\\"log_Returns\\\"] = np.log(1 + df[\\\"Returns\\\"])\\ndf.dropna(inplace=True)\";\n",
       "                var nbb_cells = Jupyter.notebook.get_cells();\n",
       "                for (var i = 0; i < nbb_cells.length; ++i) {\n",
       "                    if (nbb_cells[i].input_prompt_number == nbb_cell_id) {\n",
       "                        if (nbb_cells[i].get_text() == nbb_unformatted_code) {\n",
       "                             nbb_cells[i].set_text(nbb_formatted_code);\n",
       "                        }\n",
       "                        break;\n",
       "                    }\n",
       "                }\n",
       "            }, 500);\n",
       "            "
      ],
      "text/plain": [
       "<IPython.core.display.Javascript object>"
      ]
     },
     "metadata": {},
     "output_type": "display_data"
    }
   ],
   "source": [
    "start_date = \"2000-01-01\"\n",
    "end_date = str(datetime.date.today() - datetime.timedelta(days=1))\n",
    "symbols = {\n",
    "    \"Gold\": \"GC=F\",\n",
    "    \"USD_TL\": \"TRY=X\",\n",
    "    \"Bitcoin\": \"BTC-USD\",\n",
    "    \"Ethereum\": \"ETH-USD\",\n",
    "}\n",
    "symbol = symbols[list(symbols)[0]]\n",
    "dates = pd.date_range(start_date, end_date)\n",
    "df = web.DataReader(symbol, \"yahoo\", start=start_date, end=end_date)\n",
    "df = df[[\"High\", \"Low\", \"Open\", \"Adj Close\"]]\n",
    "df = df.rename(columns={\"Adj Close\": \"Close\"})\n",
    "df[\"Returns\"] = df[\"Close\"].pct_change()\n",
    "df[\"log_Returns\"] = np.log(1 + df[\"Returns\"])\n",
    "df.dropna(inplace=True)"
   ]
  },
  {
   "cell_type": "code",
   "execution_count": 3,
   "metadata": {},
   "outputs": [
    {
     "name": "stdout",
     "output_type": "stream",
     "text": [
      "<class 'pandas.core.frame.DataFrame'>\n",
      "DatetimeIndex: 5175 entries, 2000-08-31 to 2021-06-04\n",
      "Data columns (total 6 columns):\n",
      " #   Column       Non-Null Count  Dtype  \n",
      "---  ------       --------------  -----  \n",
      " 0   High         5175 non-null   float64\n",
      " 1   Low          5175 non-null   float64\n",
      " 2   Open         5175 non-null   float64\n",
      " 3   Close        5175 non-null   float64\n",
      " 4   Returns      5175 non-null   float64\n",
      " 5   log_Returns  5175 non-null   float64\n",
      "dtypes: float64(6)\n",
      "memory usage: 283.0 KB\n"
     ]
    },
    {
     "data": {
      "text/plain": [
       "High           0\n",
       "Low            0\n",
       "Open           0\n",
       "Close          0\n",
       "Returns        0\n",
       "log_Returns    0\n",
       "dtype: int64"
      ]
     },
     "execution_count": 3,
     "metadata": {},
     "output_type": "execute_result"
    },
    {
     "data": {
      "application/javascript": [
       "\n",
       "            setTimeout(function() {\n",
       "                var nbb_cell_id = 3;\n",
       "                var nbb_unformatted_code = \"df.info()\\ndf.isnull().sum()\\n# df.tail()\";\n",
       "                var nbb_formatted_code = \"df.info()\\ndf.isnull().sum()\\n# df.tail()\";\n",
       "                var nbb_cells = Jupyter.notebook.get_cells();\n",
       "                for (var i = 0; i < nbb_cells.length; ++i) {\n",
       "                    if (nbb_cells[i].input_prompt_number == nbb_cell_id) {\n",
       "                        if (nbb_cells[i].get_text() == nbb_unformatted_code) {\n",
       "                             nbb_cells[i].set_text(nbb_formatted_code);\n",
       "                        }\n",
       "                        break;\n",
       "                    }\n",
       "                }\n",
       "            }, 500);\n",
       "            "
      ],
      "text/plain": [
       "<IPython.core.display.Javascript object>"
      ]
     },
     "metadata": {},
     "output_type": "display_data"
    }
   ],
   "source": [
    "df.info()\n",
    "df.isnull().sum()\n",
    "# df.tail()"
   ]
  },
  {
   "cell_type": "markdown",
   "metadata": {},
   "source": [
    "### Train - Test Split\n",
    "After downsampling, the number of instances is 1442. We will split the dataset into train and test data in a 75% and 25% ratio of the instances"
   ]
  },
  {
   "cell_type": "code",
   "execution_count": 4,
   "metadata": {},
   "outputs": [
    {
     "data": {
      "application/javascript": [
       "\n",
       "            setTimeout(function() {\n",
       "                var nbb_cell_id = 4;\n",
       "                var nbb_unformatted_code = \"train_df, test_df = df[: int(len(df) * 0.75)], df[int(len(df) * 0.75) :]\";\n",
       "                var nbb_formatted_code = \"train_df, test_df = df[: int(len(df) * 0.75)], df[int(len(df) * 0.75) :]\";\n",
       "                var nbb_cells = Jupyter.notebook.get_cells();\n",
       "                for (var i = 0; i < nbb_cells.length; ++i) {\n",
       "                    if (nbb_cells[i].input_prompt_number == nbb_cell_id) {\n",
       "                        if (nbb_cells[i].get_text() == nbb_unformatted_code) {\n",
       "                             nbb_cells[i].set_text(nbb_formatted_code);\n",
       "                        }\n",
       "                        break;\n",
       "                    }\n",
       "                }\n",
       "            }, 500);\n",
       "            "
      ],
      "text/plain": [
       "<IPython.core.display.Javascript object>"
      ]
     },
     "metadata": {},
     "output_type": "display_data"
    }
   ],
   "source": [
    "train_df, test_df = df[: int(len(df) * 0.75)], df[int(len(df) * 0.75) :]"
   ]
  },
  {
   "cell_type": "markdown",
   "metadata": {},
   "source": [
    "### Scaling the values \n",
    "\n",
    "All the columns in the data frame are on a different scale. Now we will scale the values to -1 to 1 for faster training of the models.\n",
    "\n"
   ]
  },
  {
   "cell_type": "code",
   "execution_count": 5,
   "metadata": {},
   "outputs": [
    {
     "name": "stderr",
     "output_type": "stream",
     "text": [
      "<ipython-input-5-2fbd012ad6fc>:9: SettingWithCopyWarning: \n",
      "A value is trying to be set on a copy of a slice from a DataFrame.\n",
      "Try using .loc[row_indexer,col_indexer] = value instead\n",
      "\n",
      "See the caveats in the documentation: https://pandas.pydata.org/pandas-docs/stable/user_guide/indexing.html#returning-a-view-versus-a-copy\n",
      "  train[i] = s_s\n",
      "<ipython-input-5-2fbd012ad6fc>:9: SettingWithCopyWarning: \n",
      "A value is trying to be set on a copy of a slice from a DataFrame.\n",
      "Try using .loc[row_indexer,col_indexer] = value instead\n",
      "\n",
      "See the caveats in the documentation: https://pandas.pydata.org/pandas-docs/stable/user_guide/indexing.html#returning-a-view-versus-a-copy\n",
      "  train[i] = s_s\n",
      "<ipython-input-5-2fbd012ad6fc>:9: SettingWithCopyWarning: \n",
      "A value is trying to be set on a copy of a slice from a DataFrame.\n",
      "Try using .loc[row_indexer,col_indexer] = value instead\n",
      "\n",
      "See the caveats in the documentation: https://pandas.pydata.org/pandas-docs/stable/user_guide/indexing.html#returning-a-view-versus-a-copy\n",
      "  train[i] = s_s\n",
      "<ipython-input-5-2fbd012ad6fc>:9: SettingWithCopyWarning: \n",
      "A value is trying to be set on a copy of a slice from a DataFrame.\n",
      "Try using .loc[row_indexer,col_indexer] = value instead\n",
      "\n",
      "See the caveats in the documentation: https://pandas.pydata.org/pandas-docs/stable/user_guide/indexing.html#returning-a-view-versus-a-copy\n",
      "  train[i] = s_s\n",
      "<ipython-input-5-2fbd012ad6fc>:9: SettingWithCopyWarning: \n",
      "A value is trying to be set on a copy of a slice from a DataFrame.\n",
      "Try using .loc[row_indexer,col_indexer] = value instead\n",
      "\n",
      "See the caveats in the documentation: https://pandas.pydata.org/pandas-docs/stable/user_guide/indexing.html#returning-a-view-versus-a-copy\n",
      "  train[i] = s_s\n",
      "<ipython-input-5-2fbd012ad6fc>:9: SettingWithCopyWarning: \n",
      "A value is trying to be set on a copy of a slice from a DataFrame.\n",
      "Try using .loc[row_indexer,col_indexer] = value instead\n",
      "\n",
      "See the caveats in the documentation: https://pandas.pydata.org/pandas-docs/stable/user_guide/indexing.html#returning-a-view-versus-a-copy\n",
      "  train[i] = s_s\n",
      "<ipython-input-5-2fbd012ad6fc>:16: SettingWithCopyWarning: \n",
      "A value is trying to be set on a copy of a slice from a DataFrame.\n",
      "Try using .loc[row_indexer,col_indexer] = value instead\n",
      "\n",
      "See the caveats in the documentation: https://pandas.pydata.org/pandas-docs/stable/user_guide/indexing.html#returning-a-view-versus-a-copy\n",
      "  test[i] = s_s\n",
      "<ipython-input-5-2fbd012ad6fc>:16: SettingWithCopyWarning: \n",
      "A value is trying to be set on a copy of a slice from a DataFrame.\n",
      "Try using .loc[row_indexer,col_indexer] = value instead\n",
      "\n",
      "See the caveats in the documentation: https://pandas.pydata.org/pandas-docs/stable/user_guide/indexing.html#returning-a-view-versus-a-copy\n",
      "  test[i] = s_s\n",
      "<ipython-input-5-2fbd012ad6fc>:16: SettingWithCopyWarning: \n",
      "A value is trying to be set on a copy of a slice from a DataFrame.\n",
      "Try using .loc[row_indexer,col_indexer] = value instead\n",
      "\n",
      "See the caveats in the documentation: https://pandas.pydata.org/pandas-docs/stable/user_guide/indexing.html#returning-a-view-versus-a-copy\n",
      "  test[i] = s_s\n",
      "<ipython-input-5-2fbd012ad6fc>:16: SettingWithCopyWarning: \n",
      "A value is trying to be set on a copy of a slice from a DataFrame.\n",
      "Try using .loc[row_indexer,col_indexer] = value instead\n",
      "\n",
      "See the caveats in the documentation: https://pandas.pydata.org/pandas-docs/stable/user_guide/indexing.html#returning-a-view-versus-a-copy\n",
      "  test[i] = s_s\n",
      "<ipython-input-5-2fbd012ad6fc>:16: SettingWithCopyWarning: \n",
      "A value is trying to be set on a copy of a slice from a DataFrame.\n",
      "Try using .loc[row_indexer,col_indexer] = value instead\n",
      "\n",
      "See the caveats in the documentation: https://pandas.pydata.org/pandas-docs/stable/user_guide/indexing.html#returning-a-view-versus-a-copy\n",
      "  test[i] = s_s\n",
      "<ipython-input-5-2fbd012ad6fc>:16: SettingWithCopyWarning: \n",
      "A value is trying to be set on a copy of a slice from a DataFrame.\n",
      "Try using .loc[row_indexer,col_indexer] = value instead\n",
      "\n",
      "See the caveats in the documentation: https://pandas.pydata.org/pandas-docs/stable/user_guide/indexing.html#returning-a-view-versus-a-copy\n",
      "  test[i] = s_s\n"
     ]
    },
    {
     "data": {
      "application/javascript": [
       "\n",
       "            setTimeout(function() {\n",
       "                var nbb_cell_id = 5;\n",
       "                var nbb_unformatted_code = \"train = train_df\\nscalers = {}\\nfor i in train_df.columns:\\n    scaler = StandardScaler()\\n    # scaler = MinMaxScaler(feature_range=(-1, 1))\\n    s_s = scaler.fit_transform(train[i].values.reshape(-1, 1))\\n    s_s = np.reshape(s_s, len(s_s))\\n    scalers[\\\"scaler_\\\" + i] = scaler\\n    train[i] = s_s\\ntest = test_df\\nfor i in train_df.columns:\\n    scaler = scalers[\\\"scaler_\\\" + i]\\n    s_s = scaler.transform(test[i].values.reshape(-1, 1))\\n    s_s = np.reshape(s_s, len(s_s))\\n    scalers[\\\"scaler_\\\" + i] = scaler\\n    test[i] = s_s\";\n",
       "                var nbb_formatted_code = \"train = train_df\\nscalers = {}\\nfor i in train_df.columns:\\n    scaler = StandardScaler()\\n    # scaler = MinMaxScaler(feature_range=(-1, 1))\\n    s_s = scaler.fit_transform(train[i].values.reshape(-1, 1))\\n    s_s = np.reshape(s_s, len(s_s))\\n    scalers[\\\"scaler_\\\" + i] = scaler\\n    train[i] = s_s\\ntest = test_df\\nfor i in train_df.columns:\\n    scaler = scalers[\\\"scaler_\\\" + i]\\n    s_s = scaler.transform(test[i].values.reshape(-1, 1))\\n    s_s = np.reshape(s_s, len(s_s))\\n    scalers[\\\"scaler_\\\" + i] = scaler\\n    test[i] = s_s\";\n",
       "                var nbb_cells = Jupyter.notebook.get_cells();\n",
       "                for (var i = 0; i < nbb_cells.length; ++i) {\n",
       "                    if (nbb_cells[i].input_prompt_number == nbb_cell_id) {\n",
       "                        if (nbb_cells[i].get_text() == nbb_unformatted_code) {\n",
       "                             nbb_cells[i].set_text(nbb_formatted_code);\n",
       "                        }\n",
       "                        break;\n",
       "                    }\n",
       "                }\n",
       "            }, 500);\n",
       "            "
      ],
      "text/plain": [
       "<IPython.core.display.Javascript object>"
      ]
     },
     "metadata": {},
     "output_type": "display_data"
    }
   ],
   "source": [
    "train = train_df\n",
    "scalers = {}\n",
    "for i in train_df.columns:\n",
    "    scaler = StandardScaler()\n",
    "    # scaler = MinMaxScaler(feature_range=(-1, 1))\n",
    "    s_s = scaler.fit_transform(train[i].values.reshape(-1, 1))\n",
    "    s_s = np.reshape(s_s, len(s_s))\n",
    "    scalers[\"scaler_\" + i] = scaler\n",
    "    train[i] = s_s\n",
    "test = test_df\n",
    "for i in train_df.columns:\n",
    "    scaler = scalers[\"scaler_\" + i]\n",
    "    s_s = scaler.transform(test[i].values.reshape(-1, 1))\n",
    "    s_s = np.reshape(s_s, len(s_s))\n",
    "    scalers[\"scaler_\" + i] = scaler\n",
    "    test[i] = s_s"
   ]
  },
  {
   "cell_type": "code",
   "execution_count": 6,
   "metadata": {},
   "outputs": [
    {
     "data": {
      "text/plain": [
       "(                High       Low      Open     Close   Returns  log_Returns\n",
       " Date                                                                     \n",
       " 2000-08-31 -1.270253 -1.275224 -1.276104 -1.268953  1.330868     1.324494\n",
       " 2000-09-01 -1.272998 -1.270511 -1.271429 -1.271718 -0.436935    -0.431543\n",
       " 2000-09-05 -1.275532 -1.273081 -1.273979 -1.274269 -0.408034    -0.402541\n",
       " 2000-09-06 -1.278910 -1.276509 -1.277380 -1.277672 -0.533278    -0.528292\n",
       " 2000-09-07 -1.279333 -1.276938 -1.277805 -1.278097 -0.100882    -0.094927\n",
       " ...              ...       ...       ...       ...       ...          ...\n",
       " 2016-03-21  0.794627  0.799827  0.809702  0.784164 -0.718668    -0.714776\n",
       " 2016-03-22  0.786603  0.800684  0.783773  0.793520  0.262895     0.267965\n",
       " 2016-03-23  0.776679  0.746698  0.791637  0.741421 -1.712106    -1.721090\n",
       " 2016-03-24  0.721145  0.737271  0.720438  0.736531 -0.198929    -0.193001\n",
       " 2016-03-28  0.722834  0.728274  0.714700  0.733341 -0.143395    -0.137438\n",
       " \n",
       " [3881 rows x 6 columns],\n",
       "                 High       Low      Open     Close   Returns  log_Returns\n",
       " Date                                                                     \n",
       " 2016-03-29  0.751129  0.744770  0.728090  0.766726  1.058531     1.056318\n",
       " 2016-03-30  0.770978  0.756981  0.778247  0.748226 -0.638982    -0.634570\n",
       " 2016-03-31  0.759575  0.759337  0.744667  0.763749  0.468567     0.472455\n",
       " 2016-04-01  0.750285  0.726560  0.758907  0.738232 -0.867622    -0.864905\n",
       " 2016-04-04  0.723046  0.738985  0.736378  0.729300 -0.331663    -0.325952\n",
       " ...              ...       ...       ...       ...       ...          ...\n",
       " 2021-05-28  2.165442  2.167699  2.172682  2.184876  0.267125     0.272176\n",
       " 2021-06-01  2.188247  2.191050  2.188834  2.185727 -0.020767    -0.014874\n",
       " 2021-06-02  2.172622  2.197905  2.176295  2.195509  0.167399     0.172851\n",
       " 2021-06-03  2.172622  2.131493  2.196698  2.118317 -1.661116    -1.669147\n",
       " 2021-06-04  2.144538  2.107928  2.112747  2.157870  0.808761     0.809619\n",
       " \n",
       " [1294 rows x 6 columns])"
      ]
     },
     "execution_count": 6,
     "metadata": {},
     "output_type": "execute_result"
    },
    {
     "data": {
      "application/javascript": [
       "\n",
       "            setTimeout(function() {\n",
       "                var nbb_cell_id = 6;\n",
       "                var nbb_unformatted_code = \"train, test\";\n",
       "                var nbb_formatted_code = \"train, test\";\n",
       "                var nbb_cells = Jupyter.notebook.get_cells();\n",
       "                for (var i = 0; i < nbb_cells.length; ++i) {\n",
       "                    if (nbb_cells[i].input_prompt_number == nbb_cell_id) {\n",
       "                        if (nbb_cells[i].get_text() == nbb_unformatted_code) {\n",
       "                             nbb_cells[i].set_text(nbb_formatted_code);\n",
       "                        }\n",
       "                        break;\n",
       "                    }\n",
       "                }\n",
       "            }, 500);\n",
       "            "
      ],
      "text/plain": [
       "<IPython.core.display.Javascript object>"
      ]
     },
     "metadata": {},
     "output_type": "display_data"
    }
   ],
   "source": [
    "train, test"
   ]
  },
  {
   "cell_type": "markdown",
   "metadata": {},
   "source": [
    "### Converting the series to samples\n",
    "Now we will make a function that will use a sliding window approach to transform our series into samples of input past observations and output future observations to use supervised learning algorithms."
   ]
  },
  {
   "cell_type": "code",
   "execution_count": 7,
   "metadata": {},
   "outputs": [
    {
     "data": {
      "application/javascript": [
       "\n",
       "            setTimeout(function() {\n",
       "                var nbb_cell_id = 7;\n",
       "                var nbb_unformatted_code = \"def split_series(series, n_past, n_future):\\n    #\\n    # n_past ==> no of past observations\\n    #\\n    # n_future ==> no of future observations\\n    #\\n    X, y = list(), list()\\n    for window_start in range(len(series)):\\n        past_end = window_start + n_past\\n        future_end = past_end + n_future\\n        if future_end > len(series):\\n            break\\n        # slicing the past and future parts of the window\\n        past, future = series[window_start:past_end, :], series[past_end:future_end, :]\\n        X.append(past)\\n        y.append(future)\\n    return np.array(X), np.array(y)\";\n",
       "                var nbb_formatted_code = \"def split_series(series, n_past, n_future):\\n    #\\n    # n_past ==> no of past observations\\n    #\\n    # n_future ==> no of future observations\\n    #\\n    X, y = list(), list()\\n    for window_start in range(len(series)):\\n        past_end = window_start + n_past\\n        future_end = past_end + n_future\\n        if future_end > len(series):\\n            break\\n        # slicing the past and future parts of the window\\n        past, future = series[window_start:past_end, :], series[past_end:future_end, :]\\n        X.append(past)\\n        y.append(future)\\n    return np.array(X), np.array(y)\";\n",
       "                var nbb_cells = Jupyter.notebook.get_cells();\n",
       "                for (var i = 0; i < nbb_cells.length; ++i) {\n",
       "                    if (nbb_cells[i].input_prompt_number == nbb_cell_id) {\n",
       "                        if (nbb_cells[i].get_text() == nbb_unformatted_code) {\n",
       "                             nbb_cells[i].set_text(nbb_formatted_code);\n",
       "                        }\n",
       "                        break;\n",
       "                    }\n",
       "                }\n",
       "            }, 500);\n",
       "            "
      ],
      "text/plain": [
       "<IPython.core.display.Javascript object>"
      ]
     },
     "metadata": {},
     "output_type": "display_data"
    }
   ],
   "source": [
    "def split_series(series, n_past, n_future):\n",
    "    #\n",
    "    # n_past ==> no of past observations\n",
    "    #\n",
    "    # n_future ==> no of future observations\n",
    "    #\n",
    "    X, y = list(), list()\n",
    "    for window_start in range(len(series)):\n",
    "        past_end = window_start + n_past\n",
    "        future_end = past_end + n_future\n",
    "        if future_end > len(series):\n",
    "            break\n",
    "        # slicing the past and future parts of the window\n",
    "        past, future = series[window_start:past_end, :], series[past_end:future_end, :]\n",
    "        X.append(past)\n",
    "        y.append(future)\n",
    "    return np.array(X), np.array(y)"
   ]
  },
  {
   "cell_type": "markdown",
   "metadata": {},
   "source": [
    "For this case, let's assume that given the past 10 days observation, we need to forecast the next 5 days observations.\n",
    "\n",
    "Now convert both the train and test data into samples using the split_series function."
   ]
  },
  {
   "cell_type": "code",
   "execution_count": 8,
   "metadata": {},
   "outputs": [
    {
     "data": {
      "application/javascript": [
       "\n",
       "            setTimeout(function() {\n",
       "                var nbb_cell_id = 8;\n",
       "                var nbb_unformatted_code = \"n_past = 10\\nn_future = 5\\nn_features = 6\";\n",
       "                var nbb_formatted_code = \"n_past = 10\\nn_future = 5\\nn_features = 6\";\n",
       "                var nbb_cells = Jupyter.notebook.get_cells();\n",
       "                for (var i = 0; i < nbb_cells.length; ++i) {\n",
       "                    if (nbb_cells[i].input_prompt_number == nbb_cell_id) {\n",
       "                        if (nbb_cells[i].get_text() == nbb_unformatted_code) {\n",
       "                             nbb_cells[i].set_text(nbb_formatted_code);\n",
       "                        }\n",
       "                        break;\n",
       "                    }\n",
       "                }\n",
       "            }, 500);\n",
       "            "
      ],
      "text/plain": [
       "<IPython.core.display.Javascript object>"
      ]
     },
     "metadata": {},
     "output_type": "display_data"
    }
   ],
   "source": [
    "n_past = 10\n",
    "n_future = 5\n",
    "n_features = 6"
   ]
  },
  {
   "cell_type": "code",
   "execution_count": 9,
   "metadata": {},
   "outputs": [
    {
     "data": {
      "application/javascript": [
       "\n",
       "            setTimeout(function() {\n",
       "                var nbb_cell_id = 9;\n",
       "                var nbb_unformatted_code = \"X_train, y_train = split_series(train.values, n_past, n_future)\\nX_train = X_train.reshape((X_train.shape[0], X_train.shape[1], n_features))\\ny_train = y_train.reshape((y_train.shape[0], y_train.shape[1], n_features))\\nX_test, y_test = split_series(test.values, n_past, n_future)\\nX_test = X_test.reshape((X_test.shape[0], X_test.shape[1], n_features))\\ny_test = y_test.reshape((y_test.shape[0], y_test.shape[1], n_features))\";\n",
       "                var nbb_formatted_code = \"X_train, y_train = split_series(train.values, n_past, n_future)\\nX_train = X_train.reshape((X_train.shape[0], X_train.shape[1], n_features))\\ny_train = y_train.reshape((y_train.shape[0], y_train.shape[1], n_features))\\nX_test, y_test = split_series(test.values, n_past, n_future)\\nX_test = X_test.reshape((X_test.shape[0], X_test.shape[1], n_features))\\ny_test = y_test.reshape((y_test.shape[0], y_test.shape[1], n_features))\";\n",
       "                var nbb_cells = Jupyter.notebook.get_cells();\n",
       "                for (var i = 0; i < nbb_cells.length; ++i) {\n",
       "                    if (nbb_cells[i].input_prompt_number == nbb_cell_id) {\n",
       "                        if (nbb_cells[i].get_text() == nbb_unformatted_code) {\n",
       "                             nbb_cells[i].set_text(nbb_formatted_code);\n",
       "                        }\n",
       "                        break;\n",
       "                    }\n",
       "                }\n",
       "            }, 500);\n",
       "            "
      ],
      "text/plain": [
       "<IPython.core.display.Javascript object>"
      ]
     },
     "metadata": {},
     "output_type": "display_data"
    }
   ],
   "source": [
    "X_train, y_train = split_series(train.values, n_past, n_future)\n",
    "X_train = X_train.reshape((X_train.shape[0], X_train.shape[1], n_features))\n",
    "y_train = y_train.reshape((y_train.shape[0], y_train.shape[1], n_features))\n",
    "X_test, y_test = split_series(test.values, n_past, n_future)\n",
    "X_test = X_test.reshape((X_test.shape[0], X_test.shape[1], n_features))\n",
    "y_test = y_test.reshape((y_test.shape[0], y_test.shape[1], n_features))"
   ]
  },
  {
   "cell_type": "markdown",
   "metadata": {},
   "source": [
    "### Model Architecture\n",
    "\n",
    "Now we will create two models in the below-mentioned architecture.\n",
    "\n",
    "E1D1 ==> Sequence to Sequence Model with one encoder layer and one decoder layer."
   ]
  },
  {
   "cell_type": "code",
   "execution_count": 10,
   "metadata": {},
   "outputs": [
    {
     "name": "stdout",
     "output_type": "stream",
     "text": [
      "Model: \"model\"\n",
      "__________________________________________________________________________________________________\n",
      "Layer (type)                    Output Shape         Param #     Connected to                     \n",
      "==================================================================================================\n",
      "input_1 (InputLayer)            [(None, 10, 6)]      0                                            \n",
      "__________________________________________________________________________________________________\n",
      "lstm (LSTM)                     [(None, 100), (None, 42800       input_1[0][0]                    \n",
      "__________________________________________________________________________________________________\n",
      "repeat_vector (RepeatVector)    (None, 5, 100)       0           lstm[0][0]                       \n",
      "__________________________________________________________________________________________________\n",
      "lstm_1 (LSTM)                   (None, 5, 100)       80400       repeat_vector[0][0]              \n",
      "                                                                 lstm[0][1]                       \n",
      "                                                                 lstm[0][2]                       \n",
      "__________________________________________________________________________________________________\n",
      "time_distributed (TimeDistribut (None, 5, 6)         606         lstm_1[0][0]                     \n",
      "==================================================================================================\n",
      "Total params: 123,806\n",
      "Trainable params: 123,806\n",
      "Non-trainable params: 0\n",
      "__________________________________________________________________________________________________\n"
     ]
    },
    {
     "data": {
      "application/javascript": [
       "\n",
       "            setTimeout(function() {\n",
       "                var nbb_cell_id = 10;\n",
       "                var nbb_unformatted_code = \"# E1D1\\n# n_features ==> no of features at each timestep in the data.\\n#\\nencoder_inputs = tf.keras.layers.Input(shape=(n_past, n_features))\\nencoder_l1 = tf.keras.layers.LSTM(100, return_state=True)\\nencoder_outputs1 = encoder_l1(encoder_inputs)\\n\\nencoder_states1 = encoder_outputs1[1:]\\n\\n#\\ndecoder_inputs = tf.keras.layers.RepeatVector(n_future)(encoder_outputs1[0])\\n\\n#\\ndecoder_l1 = tf.keras.layers.LSTM(100, return_sequences=True)(\\n    decoder_inputs, initial_state=encoder_states1\\n)\\ndecoder_outputs1 = tf.keras.layers.TimeDistributed(tf.keras.layers.Dense(n_features))(\\n    decoder_l1\\n)\\n\\n#\\nmodel_e1d1 = tf.keras.models.Model(encoder_inputs, decoder_outputs1)\\n\\n#\\nmodel_e1d1.summary()\";\n",
       "                var nbb_formatted_code = \"# E1D1\\n# n_features ==> no of features at each timestep in the data.\\n#\\nencoder_inputs = tf.keras.layers.Input(shape=(n_past, n_features))\\nencoder_l1 = tf.keras.layers.LSTM(100, return_state=True)\\nencoder_outputs1 = encoder_l1(encoder_inputs)\\n\\nencoder_states1 = encoder_outputs1[1:]\\n\\n#\\ndecoder_inputs = tf.keras.layers.RepeatVector(n_future)(encoder_outputs1[0])\\n\\n#\\ndecoder_l1 = tf.keras.layers.LSTM(100, return_sequences=True)(\\n    decoder_inputs, initial_state=encoder_states1\\n)\\ndecoder_outputs1 = tf.keras.layers.TimeDistributed(tf.keras.layers.Dense(n_features))(\\n    decoder_l1\\n)\\n\\n#\\nmodel_e1d1 = tf.keras.models.Model(encoder_inputs, decoder_outputs1)\\n\\n#\\nmodel_e1d1.summary()\";\n",
       "                var nbb_cells = Jupyter.notebook.get_cells();\n",
       "                for (var i = 0; i < nbb_cells.length; ++i) {\n",
       "                    if (nbb_cells[i].input_prompt_number == nbb_cell_id) {\n",
       "                        if (nbb_cells[i].get_text() == nbb_unformatted_code) {\n",
       "                             nbb_cells[i].set_text(nbb_formatted_code);\n",
       "                        }\n",
       "                        break;\n",
       "                    }\n",
       "                }\n",
       "            }, 500);\n",
       "            "
      ],
      "text/plain": [
       "<IPython.core.display.Javascript object>"
      ]
     },
     "metadata": {},
     "output_type": "display_data"
    }
   ],
   "source": [
    "# E1D1\n",
    "# n_features ==> no of features at each timestep in the data.\n",
    "#\n",
    "encoder_inputs = tf.keras.layers.Input(shape=(n_past, n_features))\n",
    "encoder_l1 = tf.keras.layers.LSTM(100, return_state=True)\n",
    "encoder_outputs1 = encoder_l1(encoder_inputs)\n",
    "\n",
    "encoder_states1 = encoder_outputs1[1:]\n",
    "\n",
    "#\n",
    "decoder_inputs = tf.keras.layers.RepeatVector(n_future)(encoder_outputs1[0])\n",
    "\n",
    "#\n",
    "decoder_l1 = tf.keras.layers.LSTM(100, return_sequences=True)(\n",
    "    decoder_inputs, initial_state=encoder_states1\n",
    ")\n",
    "decoder_outputs1 = tf.keras.layers.TimeDistributed(tf.keras.layers.Dense(n_features))(\n",
    "    decoder_l1\n",
    ")\n",
    "\n",
    "#\n",
    "model_e1d1 = tf.keras.models.Model(encoder_inputs, decoder_outputs1)\n",
    "\n",
    "#\n",
    "model_e1d1.summary()"
   ]
  },
  {
   "cell_type": "markdown",
   "metadata": {},
   "source": [
    "E2D2 ==> Sequence to Sequence Model with two encoder layers and two decoder layers."
   ]
  },
  {
   "cell_type": "code",
   "execution_count": 11,
   "metadata": {},
   "outputs": [
    {
     "name": "stdout",
     "output_type": "stream",
     "text": [
      "Model: \"model_1\"\n",
      "__________________________________________________________________________________________________\n",
      "Layer (type)                    Output Shape         Param #     Connected to                     \n",
      "==================================================================================================\n",
      "input_2 (InputLayer)            [(None, 10, 6)]      0                                            \n",
      "__________________________________________________________________________________________________\n",
      "lstm_2 (LSTM)                   [(None, 10, 100), (N 42800       input_2[0][0]                    \n",
      "__________________________________________________________________________________________________\n",
      "lstm_3 (LSTM)                   [(None, 100), (None, 80400       lstm_2[0][0]                     \n",
      "__________________________________________________________________________________________________\n",
      "repeat_vector_1 (RepeatVector)  (None, 5, 100)       0           lstm_3[0][0]                     \n",
      "__________________________________________________________________________________________________\n",
      "lstm_4 (LSTM)                   (None, 5, 100)       80400       repeat_vector_1[0][0]            \n",
      "                                                                 lstm_2[0][1]                     \n",
      "                                                                 lstm_2[0][2]                     \n",
      "__________________________________________________________________________________________________\n",
      "lstm_5 (LSTM)                   (None, 5, 100)       80400       lstm_4[0][0]                     \n",
      "                                                                 lstm_3[0][1]                     \n",
      "                                                                 lstm_3[0][2]                     \n",
      "__________________________________________________________________________________________________\n",
      "time_distributed_1 (TimeDistrib (None, 5, 6)         606         lstm_5[0][0]                     \n",
      "==================================================================================================\n",
      "Total params: 284,606\n",
      "Trainable params: 284,606\n",
      "Non-trainable params: 0\n",
      "__________________________________________________________________________________________________\n"
     ]
    },
    {
     "data": {
      "application/javascript": [
       "\n",
       "            setTimeout(function() {\n",
       "                var nbb_cell_id = 11;\n",
       "                var nbb_unformatted_code = \"# E2D2\\n# n_features ==> no of features at each timestep in the data.\\n#\\nencoder_inputs = tf.keras.layers.Input(shape=(n_past, n_features))\\nencoder_l1 = tf.keras.layers.LSTM(100, return_sequences=True, return_state=True)\\nencoder_outputs1 = encoder_l1(encoder_inputs)\\nencoder_states1 = encoder_outputs1[1:]\\nencoder_l2 = tf.keras.layers.LSTM(100, return_state=True)\\nencoder_outputs2 = encoder_l2(encoder_outputs1[0])\\nencoder_states2 = encoder_outputs2[1:]\\n#\\ndecoder_inputs = tf.keras.layers.RepeatVector(n_future)(encoder_outputs2[0])\\n#\\ndecoder_l1 = tf.keras.layers.LSTM(100, return_sequences=True)(\\n    decoder_inputs, initial_state=encoder_states1\\n)\\ndecoder_l2 = tf.keras.layers.LSTM(100, return_sequences=True)(\\n    decoder_l1, initial_state=encoder_states2\\n)\\ndecoder_outputs2 = tf.keras.layers.TimeDistributed(tf.keras.layers.Dense(n_features))(\\n    decoder_l2\\n)\\n#\\nmodel_e2d2 = tf.keras.models.Model(encoder_inputs, decoder_outputs2)\\n#\\nmodel_e2d2.summary()\";\n",
       "                var nbb_formatted_code = \"# E2D2\\n# n_features ==> no of features at each timestep in the data.\\n#\\nencoder_inputs = tf.keras.layers.Input(shape=(n_past, n_features))\\nencoder_l1 = tf.keras.layers.LSTM(100, return_sequences=True, return_state=True)\\nencoder_outputs1 = encoder_l1(encoder_inputs)\\nencoder_states1 = encoder_outputs1[1:]\\nencoder_l2 = tf.keras.layers.LSTM(100, return_state=True)\\nencoder_outputs2 = encoder_l2(encoder_outputs1[0])\\nencoder_states2 = encoder_outputs2[1:]\\n#\\ndecoder_inputs = tf.keras.layers.RepeatVector(n_future)(encoder_outputs2[0])\\n#\\ndecoder_l1 = tf.keras.layers.LSTM(100, return_sequences=True)(\\n    decoder_inputs, initial_state=encoder_states1\\n)\\ndecoder_l2 = tf.keras.layers.LSTM(100, return_sequences=True)(\\n    decoder_l1, initial_state=encoder_states2\\n)\\ndecoder_outputs2 = tf.keras.layers.TimeDistributed(tf.keras.layers.Dense(n_features))(\\n    decoder_l2\\n)\\n#\\nmodel_e2d2 = tf.keras.models.Model(encoder_inputs, decoder_outputs2)\\n#\\nmodel_e2d2.summary()\";\n",
       "                var nbb_cells = Jupyter.notebook.get_cells();\n",
       "                for (var i = 0; i < nbb_cells.length; ++i) {\n",
       "                    if (nbb_cells[i].input_prompt_number == nbb_cell_id) {\n",
       "                        if (nbb_cells[i].get_text() == nbb_unformatted_code) {\n",
       "                             nbb_cells[i].set_text(nbb_formatted_code);\n",
       "                        }\n",
       "                        break;\n",
       "                    }\n",
       "                }\n",
       "            }, 500);\n",
       "            "
      ],
      "text/plain": [
       "<IPython.core.display.Javascript object>"
      ]
     },
     "metadata": {},
     "output_type": "display_data"
    }
   ],
   "source": [
    "# E2D2\n",
    "# n_features ==> no of features at each timestep in the data.\n",
    "#\n",
    "encoder_inputs = tf.keras.layers.Input(shape=(n_past, n_features))\n",
    "encoder_l1 = tf.keras.layers.LSTM(100, return_sequences=True, return_state=True)\n",
    "encoder_outputs1 = encoder_l1(encoder_inputs)\n",
    "encoder_states1 = encoder_outputs1[1:]\n",
    "encoder_l2 = tf.keras.layers.LSTM(100, return_state=True)\n",
    "encoder_outputs2 = encoder_l2(encoder_outputs1[0])\n",
    "encoder_states2 = encoder_outputs2[1:]\n",
    "#\n",
    "decoder_inputs = tf.keras.layers.RepeatVector(n_future)(encoder_outputs2[0])\n",
    "#\n",
    "decoder_l1 = tf.keras.layers.LSTM(100, return_sequences=True)(\n",
    "    decoder_inputs, initial_state=encoder_states1\n",
    ")\n",
    "decoder_l2 = tf.keras.layers.LSTM(100, return_sequences=True)(\n",
    "    decoder_l1, initial_state=encoder_states2\n",
    ")\n",
    "decoder_outputs2 = tf.keras.layers.TimeDistributed(tf.keras.layers.Dense(n_features))(\n",
    "    decoder_l2\n",
    ")\n",
    "#\n",
    "model_e2d2 = tf.keras.models.Model(encoder_inputs, decoder_outputs2)\n",
    "#\n",
    "model_e2d2.summary()"
   ]
  },
  {
   "cell_type": "markdown",
   "metadata": {},
   "source": [
    "### Training the models\n",
    "\n",
    "I have used Adam optimizer and Huber loss as the loss function.  Let's compile and run the model."
   ]
  },
  {
   "cell_type": "code",
   "execution_count": 12,
   "metadata": {},
   "outputs": [
    {
     "name": "stdout",
     "output_type": "stream",
     "text": [
      "Epoch 1/25\n",
      "121/121 [==============================] - 7s 30ms/step - loss: 0.1582 - val_loss: 0.0750\n",
      "Epoch 2/25\n",
      "121/121 [==============================] - 2s 16ms/step - loss: 0.1132 - val_loss: 0.0741\n",
      "Epoch 3/25\n",
      "121/121 [==============================] - 2s 16ms/step - loss: 0.1134 - val_loss: 0.0738\n",
      "Epoch 4/25\n",
      "121/121 [==============================] - 2s 17ms/step - loss: 0.1122 - val_loss: 0.0740\n",
      "Epoch 5/25\n",
      "121/121 [==============================] - 2s 17ms/step - loss: 0.1141 - val_loss: 0.0758\n",
      "Epoch 6/25\n",
      "121/121 [==============================] - 2s 17ms/step - loss: 0.1125 - val_loss: 0.0734\n",
      "Epoch 7/25\n",
      "121/121 [==============================] - 3s 26ms/step - loss: 0.1135 - val_loss: 0.0741\n",
      "Epoch 8/25\n",
      "121/121 [==============================] - 4s 29ms/step - loss: 0.1102 - val_loss: 0.0740\n",
      "Epoch 9/25\n",
      "121/121 [==============================] - 3s 22ms/step - loss: 0.1125 - val_loss: 0.0752\n",
      "Epoch 10/25\n",
      "121/121 [==============================] - 2s 20ms/step - loss: 0.1114 - val_loss: 0.0735\n",
      "Epoch 11/25\n",
      "121/121 [==============================] - 3s 23ms/step - loss: 0.1107 - val_loss: 0.0735\n",
      "Epoch 12/25\n",
      "121/121 [==============================] - 2s 18ms/step - loss: 0.1126 - val_loss: 0.0739\n",
      "Epoch 13/25\n",
      "121/121 [==============================] - 2s 18ms/step - loss: 0.1121 - val_loss: 0.0741\n",
      "Epoch 14/25\n",
      "121/121 [==============================] - 2s 19ms/step - loss: 0.1154 - val_loss: 0.0745\n",
      "Epoch 15/25\n",
      "121/121 [==============================] - 2s 20ms/step - loss: 0.1162 - val_loss: 0.0734\n",
      "Epoch 16/25\n",
      "121/121 [==============================] - 3s 22ms/step - loss: 0.1139 - val_loss: 0.0734\n",
      "Epoch 17/25\n",
      "121/121 [==============================] - 3s 23ms/step - loss: 0.1133 - val_loss: 0.0736\n",
      "Epoch 18/25\n",
      "121/121 [==============================] - 3s 28ms/step - loss: 0.1112 - val_loss: 0.0739\n",
      "Epoch 19/25\n",
      "121/121 [==============================] - 2s 20ms/step - loss: 0.1123 - val_loss: 0.0738\n",
      "Epoch 20/25\n",
      "121/121 [==============================] - 2s 19ms/step - loss: 0.1114 - val_loss: 0.0739\n",
      "Epoch 21/25\n",
      "121/121 [==============================] - 2s 19ms/step - loss: 0.1123 - val_loss: 0.0741\n",
      "Epoch 22/25\n",
      "121/121 [==============================] - 2s 18ms/step - loss: 0.1127 - val_loss: 0.0738\n",
      "Epoch 23/25\n",
      "121/121 [==============================] - 2s 18ms/step - loss: 0.1133 - val_loss: 0.0741\n",
      "Epoch 24/25\n",
      "121/121 [==============================] - 2s 19ms/step - loss: 0.1101 - val_loss: 0.0739\n",
      "Epoch 25/25\n",
      "121/121 [==============================] - 2s 18ms/step - loss: 0.1133 - val_loss: 0.0736\n",
      "Epoch 1/25\n",
      "121/121 [==============================] - 16s 62ms/step - loss: 0.1748 - val_loss: 0.0821\n",
      "Epoch 2/25\n",
      "121/121 [==============================] - 5s 42ms/step - loss: 0.1252 - val_loss: 0.0848\n",
      "Epoch 3/25\n",
      "121/121 [==============================] - 5s 38ms/step - loss: 0.1298 - val_loss: 0.0823\n",
      "Epoch 4/25\n",
      "121/121 [==============================] - 5s 39ms/step - loss: 0.1283 - val_loss: 0.0834\n",
      "Epoch 5/25\n",
      "121/121 [==============================] - 5s 40ms/step - loss: 0.1264 - val_loss: 0.0816\n",
      "Epoch 6/25\n",
      "121/121 [==============================] - 5s 43ms/step - loss: 0.1271 - val_loss: 0.0819\n",
      "Epoch 7/25\n",
      "121/121 [==============================] - 5s 39ms/step - loss: 0.1279 - val_loss: 0.0824\n",
      "Epoch 8/25\n",
      "121/121 [==============================] - 5s 41ms/step - loss: 0.1271 - val_loss: 0.0821\n",
      "Epoch 9/25\n",
      "121/121 [==============================] - 5s 42ms/step - loss: 0.1254 - val_loss: 0.0821\n",
      "Epoch 10/25\n",
      "121/121 [==============================] - 6s 47ms/step - loss: 0.1240 - val_loss: 0.0819\n",
      "Epoch 11/25\n",
      "121/121 [==============================] - 6s 48ms/step - loss: 0.1238 - val_loss: 0.0818\n",
      "Epoch 12/25\n",
      "121/121 [==============================] - 6s 49ms/step - loss: 0.1267 - val_loss: 0.0819\n",
      "Epoch 13/25\n",
      "121/121 [==============================] - 6s 46ms/step - loss: 0.1229 - val_loss: 0.0828\n",
      "Epoch 14/25\n",
      "121/121 [==============================] - 5s 45ms/step - loss: 0.1264 - val_loss: 0.0823\n",
      "Epoch 15/25\n",
      "121/121 [==============================] - 5s 40ms/step - loss: 0.1228 - val_loss: 0.0818\n",
      "Epoch 16/25\n",
      "121/121 [==============================] - 7s 61ms/step - loss: 0.1231 - val_loss: 0.0825\n",
      "Epoch 17/25\n",
      "121/121 [==============================] - 6s 47ms/step - loss: 0.1263 - val_loss: 0.0832\n",
      "Epoch 18/25\n",
      "121/121 [==============================] - 5s 39ms/step - loss: 0.1230 - val_loss: 0.0825\n",
      "Epoch 19/25\n",
      "121/121 [==============================] - 5s 38ms/step - loss: 0.1273 - val_loss: 0.0821\n",
      "Epoch 20/25\n",
      "121/121 [==============================] - 5s 38ms/step - loss: 0.1262 - val_loss: 0.0819\n",
      "Epoch 21/25\n",
      "121/121 [==============================] - 5s 43ms/step - loss: 0.1233 - val_loss: 0.0832\n",
      "Epoch 22/25\n",
      "121/121 [==============================] - 5s 42ms/step - loss: 0.1260 - val_loss: 0.0830\n",
      "Epoch 23/25\n",
      "121/121 [==============================] - 5s 39ms/step - loss: 0.1251 - val_loss: 0.0833\n",
      "Epoch 24/25\n",
      "121/121 [==============================] - 5s 39ms/step - loss: 0.1253 - val_loss: 0.0828\n",
      "Epoch 25/25\n",
      "121/121 [==============================] - 5s 39ms/step - loss: 0.1262 - val_loss: 0.0844\n"
     ]
    },
    {
     "data": {
      "application/javascript": [
       "\n",
       "            setTimeout(function() {\n",
       "                var nbb_cell_id = 12;\n",
       "                var nbb_unformatted_code = \"reduce_lr = tf.keras.callbacks.LearningRateScheduler(lambda x: 1e-3 * 0.90 ** x)\\n\\nmodel_e1d1.compile(optimizer=tf.keras.optimizers.Adam(), loss=tf.keras.losses.LogCosh())\\n\\nhistory_e1d1 = model_e1d1.fit(\\n    X_train,\\n    y_train,\\n    epochs=25,\\n    validation_data=(X_test, y_test),\\n    batch_size=32,\\n    verbose=1,\\n    callbacks=[reduce_lr],\\n)\\n\\nmodel_e2d2.compile(optimizer=tf.keras.optimizers.Adam(), loss=tf.keras.losses.Huber())\\n\\nhistory_e2d2 = model_e2d2.fit(\\n    X_train,\\n    y_train,\\n    epochs=25,\\n    validation_data=(X_test, y_test),\\n    batch_size=32,\\n    verbose=1,\\n    callbacks=[reduce_lr],\\n)\";\n",
       "                var nbb_formatted_code = \"reduce_lr = tf.keras.callbacks.LearningRateScheduler(lambda x: 1e-3 * 0.90 ** x)\\n\\nmodel_e1d1.compile(optimizer=tf.keras.optimizers.Adam(), loss=tf.keras.losses.LogCosh())\\n\\nhistory_e1d1 = model_e1d1.fit(\\n    X_train,\\n    y_train,\\n    epochs=25,\\n    validation_data=(X_test, y_test),\\n    batch_size=32,\\n    verbose=1,\\n    callbacks=[reduce_lr],\\n)\\n\\nmodel_e2d2.compile(optimizer=tf.keras.optimizers.Adam(), loss=tf.keras.losses.Huber())\\n\\nhistory_e2d2 = model_e2d2.fit(\\n    X_train,\\n    y_train,\\n    epochs=25,\\n    validation_data=(X_test, y_test),\\n    batch_size=32,\\n    verbose=1,\\n    callbacks=[reduce_lr],\\n)\";\n",
       "                var nbb_cells = Jupyter.notebook.get_cells();\n",
       "                for (var i = 0; i < nbb_cells.length; ++i) {\n",
       "                    if (nbb_cells[i].input_prompt_number == nbb_cell_id) {\n",
       "                        if (nbb_cells[i].get_text() == nbb_unformatted_code) {\n",
       "                             nbb_cells[i].set_text(nbb_formatted_code);\n",
       "                        }\n",
       "                        break;\n",
       "                    }\n",
       "                }\n",
       "            }, 500);\n",
       "            "
      ],
      "text/plain": [
       "<IPython.core.display.Javascript object>"
      ]
     },
     "metadata": {},
     "output_type": "display_data"
    }
   ],
   "source": [
    "reduce_lr = tf.keras.callbacks.LearningRateScheduler(lambda x: 1e-3 * 0.90 ** x)\n",
    "\n",
    "model_e1d1.compile(optimizer=tf.keras.optimizers.Adam(), loss=tf.keras.losses.LogCosh())\n",
    "\n",
    "history_e1d1 = model_e1d1.fit(\n",
    "    X_train,\n",
    "    y_train,\n",
    "    epochs=25,\n",
    "    validation_data=(X_test, y_test),\n",
    "    batch_size=32,\n",
    "    verbose=1,\n",
    "    callbacks=[reduce_lr],\n",
    ")\n",
    "\n",
    "model_e2d2.compile(optimizer=tf.keras.optimizers.Adam(), loss=tf.keras.losses.Huber())\n",
    "\n",
    "history_e2d2 = model_e2d2.fit(\n",
    "    X_train,\n",
    "    y_train,\n",
    "    epochs=25,\n",
    "    validation_data=(X_test, y_test),\n",
    "    batch_size=32,\n",
    "    verbose=1,\n",
    "    callbacks=[reduce_lr],\n",
    ")"
   ]
  },
  {
   "cell_type": "code",
   "execution_count": 13,
   "metadata": {},
   "outputs": [
    {
     "data": {
      "image/png": "[encoded data removed]",
      "text/plain": [
       "<Figure size 432x288 with 1 Axes>"
      ]
     },
     "metadata": {
      "needs_background": "light"
     },
     "output_type": "display_data"
    },
    {
     "data": {
      "application/javascript": [
       "\n",
       "            setTimeout(function() {\n",
       "                var nbb_cell_id = 13;\n",
       "                var nbb_unformatted_code = \"plt.plot(history_e1d1.history[\\\"loss\\\"])\\nplt.plot(history_e1d1.history[\\\"val_loss\\\"])\\nplt.title(\\\"E1D1 Model Loss\\\")\\nplt.xlabel(\\\"Epochs\\\")\\nplt.ylabel(\\\"Loss\\\")\\nplt.legend([\\\"Train\\\", \\\"Valid\\\"])\\nplt.show()\";\n",
       "                var nbb_formatted_code = \"plt.plot(history_e1d1.history[\\\"loss\\\"])\\nplt.plot(history_e1d1.history[\\\"val_loss\\\"])\\nplt.title(\\\"E1D1 Model Loss\\\")\\nplt.xlabel(\\\"Epochs\\\")\\nplt.ylabel(\\\"Loss\\\")\\nplt.legend([\\\"Train\\\", \\\"Valid\\\"])\\nplt.show()\";\n",
       "                var nbb_cells = Jupyter.notebook.get_cells();\n",
       "                for (var i = 0; i < nbb_cells.length; ++i) {\n",
       "                    if (nbb_cells[i].input_prompt_number == nbb_cell_id) {\n",
       "                        if (nbb_cells[i].get_text() == nbb_unformatted_code) {\n",
       "                             nbb_cells[i].set_text(nbb_formatted_code);\n",
       "                        }\n",
       "                        break;\n",
       "                    }\n",
       "                }\n",
       "            }, 500);\n",
       "            "
      ],
      "text/plain": [
       "<IPython.core.display.Javascript object>"
      ]
     },
     "metadata": {},
     "output_type": "display_data"
    }
   ],
   "source": [
    "plt.plot(history_e1d1.history[\"loss\"])\n",
    "plt.plot(history_e1d1.history[\"val_loss\"])\n",
    "plt.title(\"E1D1 Model Loss\")\n",
    "plt.xlabel(\"Epochs\")\n",
    "plt.ylabel(\"Loss\")\n",
    "plt.legend([\"Train\", \"Valid\"])\n",
    "plt.show()"
   ]
  },
  {
   "cell_type": "code",
   "execution_count": 14,
   "metadata": {},
   "outputs": [
    {
     "data": {
      "image/png": "[encoded data removed]",
      "text/plain": [
       "<Figure size 432x288 with 1 Axes>"
      ]
     },
     "metadata": {
      "needs_background": "light"
     },
     "output_type": "display_data"
    },
    {
     "data": {
      "application/javascript": [
       "\n",
       "            setTimeout(function() {\n",
       "                var nbb_cell_id = 14;\n",
       "                var nbb_unformatted_code = \"plt.plot(history_e2d2.history[\\\"loss\\\"])\\nplt.plot(history_e2d2.history[\\\"val_loss\\\"])\\nplt.title(\\\"E2D2 Model Loss\\\")\\nplt.xlabel(\\\"Epochs\\\")\\nplt.ylabel(\\\"Loss\\\")\\nplt.legend([\\\"Train\\\", \\\"Valid\\\"])\\nplt.show()\";\n",
       "                var nbb_formatted_code = \"plt.plot(history_e2d2.history[\\\"loss\\\"])\\nplt.plot(history_e2d2.history[\\\"val_loss\\\"])\\nplt.title(\\\"E2D2 Model Loss\\\")\\nplt.xlabel(\\\"Epochs\\\")\\nplt.ylabel(\\\"Loss\\\")\\nplt.legend([\\\"Train\\\", \\\"Valid\\\"])\\nplt.show()\";\n",
       "                var nbb_cells = Jupyter.notebook.get_cells();\n",
       "                for (var i = 0; i < nbb_cells.length; ++i) {\n",
       "                    if (nbb_cells[i].input_prompt_number == nbb_cell_id) {\n",
       "                        if (nbb_cells[i].get_text() == nbb_unformatted_code) {\n",
       "                             nbb_cells[i].set_text(nbb_formatted_code);\n",
       "                        }\n",
       "                        break;\n",
       "                    }\n",
       "                }\n",
       "            }, 500);\n",
       "            "
      ],
      "text/plain": [
       "<IPython.core.display.Javascript object>"
      ]
     },
     "metadata": {},
     "output_type": "display_data"
    }
   ],
   "source": [
    "plt.plot(history_e2d2.history[\"loss\"])\n",
    "plt.plot(history_e2d2.history[\"val_loss\"])\n",
    "plt.title(\"E2D2 Model Loss\")\n",
    "plt.xlabel(\"Epochs\")\n",
    "plt.ylabel(\"Loss\")\n",
    "plt.legend([\"Train\", \"Valid\"])\n",
    "plt.show()"
   ]
  },
  {
   "cell_type": "code",
   "execution_count": 15,
   "metadata": {},
   "outputs": [
    {
     "data": {
      "application/javascript": [
       "\n",
       "            setTimeout(function() {\n",
       "                var nbb_cell_id = 15;\n",
       "                var nbb_unformatted_code = \"# Prediction on test samples\\n\\npred1_e1d1 = model_e1d1.predict(X_test)\\npred1_e2d2 = model_e2d2.predict(X_test)\\n\\npred_e1d1 = model_e1d1.predict(X_train)\\npred_e2d2 = model_e2d2.predict(X_train)\";\n",
       "                var nbb_formatted_code = \"# Prediction on test samples\\n\\npred1_e1d1 = model_e1d1.predict(X_test)\\npred1_e2d2 = model_e2d2.predict(X_test)\\n\\npred_e1d1 = model_e1d1.predict(X_train)\\npred_e2d2 = model_e2d2.predict(X_train)\";\n",
       "                var nbb_cells = Jupyter.notebook.get_cells();\n",
       "                for (var i = 0; i < nbb_cells.length; ++i) {\n",
       "                    if (nbb_cells[i].input_prompt_number == nbb_cell_id) {\n",
       "                        if (nbb_cells[i].get_text() == nbb_unformatted_code) {\n",
       "                             nbb_cells[i].set_text(nbb_formatted_code);\n",
       "                        }\n",
       "                        break;\n",
       "                    }\n",
       "                }\n",
       "            }, 500);\n",
       "            "
      ],
      "text/plain": [
       "<IPython.core.display.Javascript object>"
      ]
     },
     "metadata": {},
     "output_type": "display_data"
    }
   ],
   "source": [
    "# Prediction on test samples\n",
    "\n",
    "pred1_e1d1 = model_e1d1.predict(X_test)\n",
    "pred1_e2d2 = model_e2d2.predict(X_test)\n",
    "\n",
    "pred_e1d1 = model_e1d1.predict(X_train)\n",
    "pred_e2d2 = model_e2d2.predict(X_train)"
   ]
  },
  {
   "cell_type": "markdown",
   "metadata": {},
   "source": [
    "### Inverse Scaling of the predicted values\n",
    "Now we will convert the predictions to their original scale."
   ]
  },
  {
   "cell_type": "code",
   "execution_count": 16,
   "metadata": {},
   "outputs": [
    {
     "data": {
      "application/javascript": [
       "\n",
       "            setTimeout(function() {\n",
       "                var nbb_cell_id = 16;\n",
       "                var nbb_unformatted_code = \"for index, i in enumerate(train_df.columns):\\n    scaler = scalers[\\\"scaler_\\\" + i]\\n    pred1_e1d1[:, :, index] = scaler.inverse_transform(pred1_e1d1[:, :, index])\\n    pred_e1d1[:, :, index] = scaler.inverse_transform(pred_e1d1[:, :, index])\\n\\n    pred1_e2d2[:, :, index] = scaler.inverse_transform(pred1_e2d2[:, :, index])\\n    pred_e2d2[:, :, index] = scaler.inverse_transform(pred_e2d2[:, :, index])\\n\\n    y_train[:, :, index] = scaler.inverse_transform(y_train[:, :, index])\\n    y_test[:, :, index] = scaler.inverse_transform(y_test[:, :, index])\";\n",
       "                var nbb_formatted_code = \"for index, i in enumerate(train_df.columns):\\n    scaler = scalers[\\\"scaler_\\\" + i]\\n    pred1_e1d1[:, :, index] = scaler.inverse_transform(pred1_e1d1[:, :, index])\\n    pred_e1d1[:, :, index] = scaler.inverse_transform(pred_e1d1[:, :, index])\\n\\n    pred1_e2d2[:, :, index] = scaler.inverse_transform(pred1_e2d2[:, :, index])\\n    pred_e2d2[:, :, index] = scaler.inverse_transform(pred_e2d2[:, :, index])\\n\\n    y_train[:, :, index] = scaler.inverse_transform(y_train[:, :, index])\\n    y_test[:, :, index] = scaler.inverse_transform(y_test[:, :, index])\";\n",
       "                var nbb_cells = Jupyter.notebook.get_cells();\n",
       "                for (var i = 0; i < nbb_cells.length; ++i) {\n",
       "                    if (nbb_cells[i].input_prompt_number == nbb_cell_id) {\n",
       "                        if (nbb_cells[i].get_text() == nbb_unformatted_code) {\n",
       "                             nbb_cells[i].set_text(nbb_formatted_code);\n",
       "                        }\n",
       "                        break;\n",
       "                    }\n",
       "                }\n",
       "            }, 500);\n",
       "            "
      ],
      "text/plain": [
       "<IPython.core.display.Javascript object>"
      ]
     },
     "metadata": {},
     "output_type": "display_data"
    }
   ],
   "source": [
    "for index, i in enumerate(train_df.columns):\n",
    "    scaler = scalers[\"scaler_\" + i]\n",
    "    pred1_e1d1[:, :, index] = scaler.inverse_transform(pred1_e1d1[:, :, index])\n",
    "    pred_e1d1[:, :, index] = scaler.inverse_transform(pred_e1d1[:, :, index])\n",
    "\n",
    "    pred1_e2d2[:, :, index] = scaler.inverse_transform(pred1_e2d2[:, :, index])\n",
    "    pred_e2d2[:, :, index] = scaler.inverse_transform(pred_e2d2[:, :, index])\n",
    "\n",
    "    y_train[:, :, index] = scaler.inverse_transform(y_train[:, :, index])\n",
    "    y_test[:, :, index] = scaler.inverse_transform(y_test[:, :, index])"
   ]
  },
  {
   "cell_type": "markdown",
   "metadata": {},
   "source": [
    "### Checking Error\n",
    "\n",
    "Now we will calculate the mean absolute error of all observations."
   ]
  },
  {
   "cell_type": "code",
   "execution_count": 17,
   "metadata": {
    "scrolled": true
   },
   "outputs": [
    {
     "name": "stdout",
     "output_type": "stream",
     "text": [
      "High\n",
      "Day  1 :\n",
      "MAE-E1D1 :  10.812549686431884, MAE-E2D2 :  18.526346111297606\n",
      "Day  2 :\n",
      "MAE-E1D1 :  15.506125831604004, MAE-E2D2 :  22.050457000732422\n",
      "Day  3 :\n",
      "MAE-E1D1 :  18.21365327835083, MAE-E2D2 :  24.73927183151245\n",
      "Day  4 :\n",
      "MAE-E1D1 :  20.920842456817628, MAE-E2D2 :  28.62468547821045\n",
      "Day  5 :\n",
      "MAE-E1D1 :  23.330090522766113, MAE-E2D2 :  32.8567702293396\n",
      "\n",
      "\n",
      "Low\n",
      "Day  1 :\n",
      "MAE-E1D1 :  11.437952899932862, MAE-E2D2 :  22.020809650421143\n",
      "Day  2 :\n",
      "MAE-E1D1 :  16.095239448547364, MAE-E2D2 :  26.660734462738038\n",
      "Day  3 :\n",
      "MAE-E1D1 :  18.627379608154296, MAE-E2D2 :  30.124668979644774\n",
      "Day  4 :\n",
      "MAE-E1D1 :  21.28769931793213, MAE-E2D2 :  34.13946905136108\n",
      "Day  5 :\n",
      "MAE-E1D1 :  23.697657203674318, MAE-E2D2 :  38.40768413543701\n",
      "\n",
      "\n",
      "Open\n",
      "Day  1 :\n",
      "MAE-E1D1 :  7.031153774261474, MAE-E2D2 :  18.75428714752197\n",
      "Day  2 :\n",
      "MAE-E1D1 :  13.583072757720947, MAE-E2D2 :  22.63086862564087\n",
      "Day  3 :\n",
      "MAE-E1D1 :  16.883327102661134, MAE-E2D2 :  26.00587224960327\n",
      "Day  4 :\n",
      "MAE-E1D1 :  19.82519426345825, MAE-E2D2 :  29.838108825683594\n",
      "Day  5 :\n",
      "MAE-E1D1 :  22.314623737335204, MAE-E2D2 :  33.68030862808227\n",
      "\n",
      "\n",
      "Close\n",
      "Day  1 :\n",
      "MAE-E1D1 :  13.929542350769044, MAE-E2D2 :  20.4327693939209\n",
      "Day  2 :\n",
      "MAE-E1D1 :  19.027987670898437, MAE-E2D2 :  24.18553400039673\n",
      "Day  3 :\n",
      "MAE-E1D1 :  21.32133855819702, MAE-E2D2 :  27.97398147583008\n",
      "Day  4 :\n",
      "MAE-E1D1 :  23.660050487518312, MAE-E2D2 :  31.986358451843262\n",
      "Day  5 :\n",
      "MAE-E1D1 :  25.777231979370118, MAE-E2D2 :  36.28713531494141\n",
      "\n",
      "\n",
      "Returns\n",
      "Day  1 :\n",
      "MAE-E1D1 :  0.006338650593439956, MAE-E2D2 :  0.006371220308887303\n",
      "Day  2 :\n",
      "MAE-E1D1 :  0.006312743594166392, MAE-E2D2 :  0.006392842023115755\n",
      "Day  3 :\n",
      "MAE-E1D1 :  0.0063025461576135, MAE-E2D2 :  0.006411734920876888\n",
      "Day  4 :\n",
      "MAE-E1D1 :  0.00630852102828878, MAE-E2D2 :  0.006433785923015833\n",
      "Day  5 :\n",
      "MAE-E1D1 :  0.006322941649594063, MAE-E2D2 :  0.006461312442104797\n",
      "\n",
      "\n",
      "log_Returns\n",
      "Day  1 :\n",
      "MAE-E1D1 :  0.006340679694554247, MAE-E2D2 :  0.006359006027238548\n",
      "Day  2 :\n",
      "MAE-E1D1 :  0.006317294694737313, MAE-E2D2 :  0.006381417291802183\n",
      "Day  3 :\n",
      "MAE-E1D1 :  0.006310774718116069, MAE-E2D2 :  0.006402250901727762\n",
      "Day  4 :\n",
      "MAE-E1D1 :  0.006318055866644636, MAE-E2D2 :  0.006428038786025272\n",
      "Day  5 :\n",
      "MAE-E1D1 :  0.006333611861442076, MAE-E2D2 :  0.006456602674171951\n",
      "\n",
      "\n"
     ]
    },
    {
     "data": {
      "application/javascript": [
       "\n",
       "            setTimeout(function() {\n",
       "                var nbb_cell_id = 17;\n",
       "                var nbb_unformatted_code = \"from sklearn.metrics import mean_absolute_error\\n \\nfor index,i in enumerate(train_df.columns):\\n  print(i)\\n  for j in range(1,6):\\n    print(\\\"Day \\\",j,\\\":\\\")\\n    print(\\\"MAE-E1D1 : \\\",mean_absolute_error(y_test[:,j-1,index],pred1_e1d1[:,j-1,index]),end=\\\", \\\")\\n    print(\\\"MAE-E2D2 : \\\",mean_absolute_error(y_test[:,j-1,index],pred1_e2d2[:,j-1,index]))\\n  print()\\n  print()\";\n",
       "                var nbb_formatted_code = \"from sklearn.metrics import mean_absolute_error\\n\\nfor index, i in enumerate(train_df.columns):\\n    print(i)\\n    for j in range(1, 6):\\n        print(\\\"Day \\\", j, \\\":\\\")\\n        print(\\n            \\\"MAE-E1D1 : \\\",\\n            mean_absolute_error(y_test[:, j - 1, index], pred1_e1d1[:, j - 1, index]),\\n            end=\\\", \\\",\\n        )\\n        print(\\n            \\\"MAE-E2D2 : \\\",\\n            mean_absolute_error(y_test[:, j - 1, index], pred1_e2d2[:, j - 1, index]),\\n        )\\n    print()\\n    print()\";\n",
       "                var nbb_cells = Jupyter.notebook.get_cells();\n",
       "                for (var i = 0; i < nbb_cells.length; ++i) {\n",
       "                    if (nbb_cells[i].input_prompt_number == nbb_cell_id) {\n",
       "                        if (nbb_cells[i].get_text() == nbb_unformatted_code) {\n",
       "                             nbb_cells[i].set_text(nbb_formatted_code);\n",
       "                        }\n",
       "                        break;\n",
       "                    }\n",
       "                }\n",
       "            }, 500);\n",
       "            "
      ],
      "text/plain": [
       "<IPython.core.display.Javascript object>"
      ]
     },
     "metadata": {},
     "output_type": "display_data"
    }
   ],
   "source": [
    "from sklearn.metrics import mean_absolute_error\n",
    " \n",
    "for index,i in enumerate(train_df.columns):\n",
    "  print(i)\n",
    "  for j in range(1,6):\n",
    "    print(\"Day \",j,\":\")\n",
    "    print(\"MAE-E1D1 : \",mean_absolute_error(y_test[:,j-1,index],pred1_e1d1[:,j-1,index]),end=\", \")\n",
    "    print(\"MAE-E2D2 : \",mean_absolute_error(y_test[:,j-1,index],pred1_e2d2[:,j-1,index]))\n",
    "  print()\n",
    "  print()\n"
   ]
  },
  {
   "cell_type": "markdown",
   "metadata": {},
   "source": [
    "y_test &  pred1_e1d1 plot"
   ]
  },
  {
   "cell_type": "code",
   "execution_count": 18,
   "metadata": {},
   "outputs": [
    {
     "data": {
      "text/plain": [
       "(1280,)"
      ]
     },
     "execution_count": 18,
     "metadata": {},
     "output_type": "execute_result"
    },
    {
     "data": {
      "application/javascript": [
       "\n",
       "            setTimeout(function() {\n",
       "                var nbb_cell_id = 18;\n",
       "                var nbb_unformatted_code = \"y_test[:, 0, 1].shape\";\n",
       "                var nbb_formatted_code = \"y_test[:, 0, 1].shape\";\n",
       "                var nbb_cells = Jupyter.notebook.get_cells();\n",
       "                for (var i = 0; i < nbb_cells.length; ++i) {\n",
       "                    if (nbb_cells[i].input_prompt_number == nbb_cell_id) {\n",
       "                        if (nbb_cells[i].get_text() == nbb_unformatted_code) {\n",
       "                             nbb_cells[i].set_text(nbb_formatted_code);\n",
       "                        }\n",
       "                        break;\n",
       "                    }\n",
       "                }\n",
       "            }, 500);\n",
       "            "
      ],
      "text/plain": [
       "<IPython.core.display.Javascript object>"
      ]
     },
     "metadata": {},
     "output_type": "display_data"
    }
   ],
   "source": [
    "y_test[:, 0, 1].shape"
   ]
  },
  {
   "cell_type": "code",
   "execution_count": 19,
   "metadata": {},
   "outputs": [
    {
     "data": {
      "image/png": "[encoded data removed]",
      "text/plain": [
       "<Figure size 432x288 with 1 Axes>"
      ]
     },
     "metadata": {
      "needs_background": "light"
     },
     "output_type": "display_data"
    },
    {
     "data": {
      "application/javascript": [
       "\n",
       "            setTimeout(function() {\n",
       "                var nbb_cell_id = 19;\n",
       "                var nbb_unformatted_code = \"plt.plot(y_test[:, 0, 1])\\nplt.plot(pred1_e2d2[:, 0, 1])\\nplt.title(\\\"E2D2 Model Loss\\\")\\nplt.xlabel(\\\"Epochs\\\")\\nplt.ylabel(\\\"Loss\\\")\\nplt.legend([\\\"Valid\\\", \\\"Prediction\\\"])\\nplt.show()\";\n",
       "                var nbb_formatted_code = \"plt.plot(y_test[:, 0, 1])\\nplt.plot(pred1_e2d2[:, 0, 1])\\nplt.title(\\\"E2D2 Model Loss\\\")\\nplt.xlabel(\\\"Epochs\\\")\\nplt.ylabel(\\\"Loss\\\")\\nplt.legend([\\\"Valid\\\", \\\"Prediction\\\"])\\nplt.show()\";\n",
       "                var nbb_cells = Jupyter.notebook.get_cells();\n",
       "                for (var i = 0; i < nbb_cells.length; ++i) {\n",
       "                    if (nbb_cells[i].input_prompt_number == nbb_cell_id) {\n",
       "                        if (nbb_cells[i].get_text() == nbb_unformatted_code) {\n",
       "                             nbb_cells[i].set_text(nbb_formatted_code);\n",
       "                        }\n",
       "                        break;\n",
       "                    }\n",
       "                }\n",
       "            }, 500);\n",
       "            "
      ],
      "text/plain": [
       "<IPython.core.display.Javascript object>"
      ]
     },
     "metadata": {},
     "output_type": "display_data"
    }
   ],
   "source": [
    "plt.plot(y_test[:, 0, 1])\n",
    "plt.plot(pred1_e2d2[:, 0, 1])\n",
    "plt.title(\"E2D2 Model Loss\")\n",
    "plt.xlabel(\"Epochs\")\n",
    "plt.ylabel(\"Loss\")\n",
    "plt.legend([\"Valid\", \"Prediction\"])\n",
    "plt.show()"
   ]
  },
  {
   "cell_type": "code",
   "execution_count": null,
   "metadata": {},
   "outputs": [],
   "source": []
  }
 ],
 "metadata": {
  "kernelspec": {
   "display_name": "Python 3",
   "language": "python",
   "name": "python3"
  },
  "language_info": {
   "codemirror_mode": {
    "name": "ipython",
    "version": 3
   },
   "file_extension": ".py",
   "mimetype": "text/x-python",
   "name": "python",
   "nbconvert_exporter": "python",
   "pygments_lexer": "ipython3",
   "version": "3.8.5"
  }
 },
 "nbformat": 4,
 "nbformat_minor": 4
}
